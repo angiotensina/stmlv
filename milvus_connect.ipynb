{
 "cells": [
  {
   "cell_type": "code",
   "execution_count": 61,
   "metadata": {},
   "outputs": [
    {
     "name": "stdout",
     "output_type": "stream",
     "text": [
      "sk-proj-AWa9lUuq3Lx5hJWNhzaYT3BlbkFJrEmcn55b9acPVn3D5Lem\n",
      "Conectado a la base de datos connect\n",
      "Colección creada\n",
      "Conexión a Milvus-VectorStore establecida.\n",
      "Conectado a coleccion: connect_col3\n",
      "\n"
     ]
    }
   ],
   "source": [
    "from embed_class import EmbeddingProcessor\n",
    "\n",
    "input_file = './colonoscopy.txt'\n",
    "uri_connection = 'http://localhost:19530'\n",
    "host = 'localhost'\n",
    "port = '19530'\n",
    "db_name = 'connect'\n",
    "collection_name = 'connect_col3'\n",
    "dimension_embedding = 3072  # Example dimension\n",
    "\n",
    "processor = EmbeddingProcessor(input_file, uri_connection, host, port, db_name, collection_name, dimension_embedding)\n",
    "dc = processor.process()\n"
   ]
  },
  {
   "cell_type": "code",
   "execution_count": 2,
   "metadata": {},
   "outputs": [
    {
     "data": {
      "text/plain": [
       "'sk-proj-AWa9lUuq3Lx5hJWNhzaYT3BlbkFJrEmcn55b9acPVn3D5Lem'"
      ]
     },
     "execution_count": 2,
     "metadata": {},
     "output_type": "execute_result"
    }
   ],
   "source": [
    "processor.api_key_openAI"
   ]
  },
  {
   "cell_type": "code",
   "execution_count": 6,
   "metadata": {},
   "outputs": [
    {
     "name": "stdout",
     "output_type": "stream",
     "text": [
      "Started parsing the file under job_id 10531352-377a-4801-9f96-53a666c6ba4f\n"
     ]
    }
   ],
   "source": [
    "from parse_class import PDFParser\n",
    "\n",
    "archivo_pdf = \"./tst.pdf\"\n",
    "archivo_salida = \"./tst.txt\"\n",
    "\n",
    "parser = PDFParser(archivo_pdf, archivo_salida)\n",
    "parser.parse_pdf()"
   ]
  },
  {
   "cell_type": "code",
   "execution_count": 7,
   "metadata": {},
   "outputs": [
    {
     "data": {
      "text/plain": [
       "'./tst.txt'"
      ]
     },
     "execution_count": 7,
     "metadata": {},
     "output_type": "execute_result"
    }
   ],
   "source": [
    "parser.archivo_salida"
   ]
  },
  {
   "cell_type": "code",
   "execution_count": 2,
   "metadata": {},
   "outputs": [
    {
     "name": "stdout",
     "output_type": "stream",
     "text": [
      "sk-proj-AWa9lUuq3Lx5hJWNhzaYT3BlbkFJrEmcn55b9acPVn3D5Lem\n",
      "Conectado a Milvus en localhost:19530\n",
      "Conectado a la base de datos connect\n",
      "Conexión a Milvus-VectorStore establecida.\n",
      "Conectado a coleccion: connect_col3\n",
      "\n"
     ]
    }
   ],
   "source": [
    "from mlvconnect_class import DBConnection\n",
    "processor = DBConnection(uri_connection, host, port, db_name, collection_name, dimension_embedding)\n",
    "processor.process()"
   ]
  },
  {
   "cell_type": "code",
   "execution_count": 64,
   "metadata": {},
   "outputs": [],
   "source": [
    "\n",
    "from pymilvus import connections, Collection, FieldSchema, CollectionSchema, DataType, utility, MilvusClient, db\n",
    "from langchain_milvus.vectorstores import Milvus\n",
    "\n",
    "lista=db.list_database()"
   ]
  },
  {
   "cell_type": "code",
   "execution_count": 67,
   "metadata": {},
   "outputs": [
    {
     "name": "stdout",
     "output_type": "stream",
     "text": [
      "['Joaquin_DB12', 'Joaquin_DB10', 'EPID', 'QEPID', 'JC_DB', 'tst_db', 'CottonWilliams', 'RAG', 'Joaquin_DB9', 'Joaquin_DB90', 'connect', 'default', 'CDC_INFORMES', 'EPID_DB', 'TS', 'my_database5']\n"
     ]
    }
   ],
   "source": [
    "print(lista)"
   ]
  },
  {
   "cell_type": "code",
   "execution_count": 31,
   "metadata": {},
   "outputs": [
    {
     "name": "stdout",
     "output_type": "stream",
     "text": [
      "my_database5\n"
     ]
    }
   ],
   "source": [
    "print(lista[0])"
   ]
  },
  {
   "cell_type": "code",
   "execution_count": 74,
   "metadata": {},
   "outputs": [],
   "source": [
    "\n",
    "def connect_to_milvus(db_name=\"default\"):\n",
    "    print(f\"connect to milvus\\n\")\n",
    "    connections.connect(\n",
    "        uri=uri_connection,\n",
    "        token=\"joaquin:chamorro\",\n",
    "        db_name=db_name\n",
    "    )\n",
    "    \n"
   ]
  },
  {
   "cell_type": "code",
   "execution_count": 84,
   "metadata": {},
   "outputs": [
    {
     "name": "stdout",
     "output_type": "stream",
     "text": [
      "EPID\n",
      "connect to milvus\n",
      "\n",
      "['EPID_col']\n"
     ]
    }
   ],
   "source": [
    "\n",
    "print(lista[2])\n",
    "connect_to_milvus(db_name=\"EPID\")\n",
    "\n",
    "cliente = MilvusClient(uri=uri_connection)\n",
    "cliente.using_database(\"EPID\")\n",
    "\n",
    "list_collections = cliente.list_collections()\n",
    "print(list_collections)\n",
    "#cliente.describe_collection()"
   ]
  },
  {
   "cell_type": "code",
   "execution_count": 22,
   "metadata": {},
   "outputs": [
    {
     "name": "stdout",
     "output_type": "stream",
     "text": [
      "['LangChainCollection', 'vectors_collection', 'LangChainCollection_2', 'Joaquin_Collection10', 'joaquin_DB', 'joaquin_DB2', 'Joaquin_Collection8', 'Joaquin_Collection9', 'quick_setup2']\n"
     ]
    }
   ],
   "source": [
    "print(list_collections)"
   ]
  }
 ],
 "metadata": {
  "kernelspec": {
   "display_name": "stmilvus",
   "language": "python",
   "name": "python3"
  },
  "language_info": {
   "codemirror_mode": {
    "name": "ipython",
    "version": 3
   },
   "file_extension": ".py",
   "mimetype": "text/x-python",
   "name": "python",
   "nbconvert_exporter": "python",
   "pygments_lexer": "ipython3",
   "version": "3.12.4"
  }
 },
 "nbformat": 4,
 "nbformat_minor": 2
}
